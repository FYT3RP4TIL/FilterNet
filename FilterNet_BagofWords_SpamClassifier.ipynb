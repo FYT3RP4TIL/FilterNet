{
 "cells": [
  {
   "cell_type": "markdown",
   "id": "b062f314",
   "metadata": {},
   "source": [
    "<h2 align='center'>NLP : Text Representation - Bag Of Words (BOW)</h2>"
   ]
  },
  {
   "cell_type": "code",
   "execution_count": 2,
   "id": "54f8d7a3",
   "metadata": {},
   "outputs": [],
   "source": [
    "import pandas as pd\n",
    "import numpy as np"
   ]
  },
  {
   "cell_type": "code",
   "execution_count": 3,
   "id": "e8912b1f",
   "metadata": {},
   "outputs": [
    {
     "data": {
      "text/html": [
       "<div>\n",
       "<style scoped>\n",
       "    .dataframe tbody tr th:only-of-type {\n",
       "        vertical-align: middle;\n",
       "    }\n",
       "\n",
       "    .dataframe tbody tr th {\n",
       "        vertical-align: top;\n",
       "    }\n",
       "\n",
       "    .dataframe thead th {\n",
       "        text-align: right;\n",
       "    }\n",
       "</style>\n",
       "<table border=\"1\" class=\"dataframe\">\n",
       "  <thead>\n",
       "    <tr style=\"text-align: right;\">\n",
       "      <th></th>\n",
       "      <th>Category</th>\n",
       "      <th>Message</th>\n",
       "    </tr>\n",
       "  </thead>\n",
       "  <tbody>\n",
       "    <tr>\n",
       "      <th>0</th>\n",
       "      <td>ham</td>\n",
       "      <td>Go until jurong point, crazy.. Available only ...</td>\n",
       "    </tr>\n",
       "    <tr>\n",
       "      <th>1</th>\n",
       "      <td>ham</td>\n",
       "      <td>Ok lar... Joking wif u oni...</td>\n",
       "    </tr>\n",
       "    <tr>\n",
       "      <th>2</th>\n",
       "      <td>spam</td>\n",
       "      <td>Free entry in 2 a wkly comp to win FA Cup fina...</td>\n",
       "    </tr>\n",
       "    <tr>\n",
       "      <th>3</th>\n",
       "      <td>ham</td>\n",
       "      <td>U dun say so early hor... U c already then say...</td>\n",
       "    </tr>\n",
       "    <tr>\n",
       "      <th>4</th>\n",
       "      <td>ham</td>\n",
       "      <td>Nah I don't think he goes to usf, he lives aro...</td>\n",
       "    </tr>\n",
       "  </tbody>\n",
       "</table>\n",
       "</div>"
      ],
      "text/plain": [
       "  Category                                            Message\n",
       "0      ham  Go until jurong point, crazy.. Available only ...\n",
       "1      ham                      Ok lar... Joking wif u oni...\n",
       "2     spam  Free entry in 2 a wkly comp to win FA Cup fina...\n",
       "3      ham  U dun say so early hor... U c already then say...\n",
       "4      ham  Nah I don't think he goes to usf, he lives aro..."
      ]
     },
     "execution_count": 3,
     "metadata": {},
     "output_type": "execute_result"
    }
   ],
   "source": [
    "df = pd.read_csv(\"spam.csv\")\n",
    "df.head()"
   ]
  },
  {
   "cell_type": "code",
   "execution_count": 4,
   "id": "e4f5ae86",
   "metadata": {},
   "outputs": [
    {
     "data": {
      "text/plain": [
       "Category\n",
       "ham     4825\n",
       "spam     747\n",
       "Name: count, dtype: int64"
      ]
     },
     "execution_count": 4,
     "metadata": {},
     "output_type": "execute_result"
    }
   ],
   "source": [
    "df.Category.value_counts()"
   ]
  },
  {
   "cell_type": "code",
   "execution_count": 5,
   "id": "ce3d207b",
   "metadata": {},
   "outputs": [],
   "source": [
    "df['spam'] = df['Category'].apply(lambda x: 1 if x =='spam' else 0) # new colum for spam is 1 and not spam is 0"
   ]
  },
  {
   "cell_type": "code",
   "execution_count": 6,
   "id": "6b665e00",
   "metadata": {},
   "outputs": [
    {
     "data": {
      "text/plain": [
       "(5572, 3)"
      ]
     },
     "execution_count": 6,
     "metadata": {},
     "output_type": "execute_result"
    }
   ],
   "source": [
    "df.shape"
   ]
  },
  {
   "cell_type": "code",
   "execution_count": 7,
   "id": "0fdd3b0c",
   "metadata": {
    "scrolled": true
   },
   "outputs": [
    {
     "data": {
      "text/html": [
       "<div>\n",
       "<style scoped>\n",
       "    .dataframe tbody tr th:only-of-type {\n",
       "        vertical-align: middle;\n",
       "    }\n",
       "\n",
       "    .dataframe tbody tr th {\n",
       "        vertical-align: top;\n",
       "    }\n",
       "\n",
       "    .dataframe thead th {\n",
       "        text-align: right;\n",
       "    }\n",
       "</style>\n",
       "<table border=\"1\" class=\"dataframe\">\n",
       "  <thead>\n",
       "    <tr style=\"text-align: right;\">\n",
       "      <th></th>\n",
       "      <th>Category</th>\n",
       "      <th>Message</th>\n",
       "      <th>spam</th>\n",
       "    </tr>\n",
       "  </thead>\n",
       "  <tbody>\n",
       "    <tr>\n",
       "      <th>0</th>\n",
       "      <td>ham</td>\n",
       "      <td>Go until jurong point, crazy.. Available only ...</td>\n",
       "      <td>0</td>\n",
       "    </tr>\n",
       "    <tr>\n",
       "      <th>1</th>\n",
       "      <td>ham</td>\n",
       "      <td>Ok lar... Joking wif u oni...</td>\n",
       "      <td>0</td>\n",
       "    </tr>\n",
       "    <tr>\n",
       "      <th>2</th>\n",
       "      <td>spam</td>\n",
       "      <td>Free entry in 2 a wkly comp to win FA Cup fina...</td>\n",
       "      <td>1</td>\n",
       "    </tr>\n",
       "    <tr>\n",
       "      <th>3</th>\n",
       "      <td>ham</td>\n",
       "      <td>U dun say so early hor... U c already then say...</td>\n",
       "      <td>0</td>\n",
       "    </tr>\n",
       "    <tr>\n",
       "      <th>4</th>\n",
       "      <td>ham</td>\n",
       "      <td>Nah I don't think he goes to usf, he lives aro...</td>\n",
       "      <td>0</td>\n",
       "    </tr>\n",
       "  </tbody>\n",
       "</table>\n",
       "</div>"
      ],
      "text/plain": [
       "  Category                                            Message  spam\n",
       "0      ham  Go until jurong point, crazy.. Available only ...     0\n",
       "1      ham                      Ok lar... Joking wif u oni...     0\n",
       "2     spam  Free entry in 2 a wkly comp to win FA Cup fina...     1\n",
       "3      ham  U dun say so early hor... U c already then say...     0\n",
       "4      ham  Nah I don't think he goes to usf, he lives aro...     0"
      ]
     },
     "execution_count": 7,
     "metadata": {},
     "output_type": "execute_result"
    }
   ],
   "source": [
    "df.head()"
   ]
  },
  {
   "cell_type": "markdown",
   "id": "c14da82f",
   "metadata": {},
   "source": [
    "<h3>Train test split</h3>"
   ]
  },
  {
   "cell_type": "code",
   "execution_count": 9,
   "id": "55c57d7e",
   "metadata": {},
   "outputs": [],
   "source": [
    "from sklearn.model_selection import train_test_split\n",
    "\n",
    "X_train, X_test, y_train, y_test = train_test_split(df.Message, df.spam, test_size=0.2)"
   ]
  },
  {
   "cell_type": "code",
   "execution_count": 10,
   "id": "0c434635",
   "metadata": {},
   "outputs": [
    {
     "data": {
      "text/plain": [
       "(4457,)"
      ]
     },
     "execution_count": 10,
     "metadata": {},
     "output_type": "execute_result"
    }
   ],
   "source": [
    "X_train.shape"
   ]
  },
  {
   "cell_type": "code",
   "execution_count": 11,
   "id": "0322e41b",
   "metadata": {},
   "outputs": [
    {
     "data": {
      "text/plain": [
       "(1115,)"
      ]
     },
     "execution_count": 11,
     "metadata": {},
     "output_type": "execute_result"
    }
   ],
   "source": [
    "X_test.shape"
   ]
  },
  {
   "cell_type": "code",
   "execution_count": 12,
   "id": "2b8afdd0",
   "metadata": {},
   "outputs": [
    {
     "data": {
      "text/plain": [
       "pandas.core.series.Series"
      ]
     },
     "execution_count": 12,
     "metadata": {},
     "output_type": "execute_result"
    }
   ],
   "source": [
    "type(X_train)"
   ]
  },
  {
   "cell_type": "code",
   "execution_count": 13,
   "id": "4c31562f",
   "metadata": {},
   "outputs": [
    {
     "data": {
      "text/plain": [
       "4096    I ain't answerin no phone at what is actually ...\n",
       "689            Thanks love. But am i doing torch or bold.\n",
       "286     K, I might come by tonight then if my class le...\n",
       "4391    Do you know why god created gap between your f...\n",
       "Name: Message, dtype: object"
      ]
     },
     "execution_count": 13,
     "metadata": {},
     "output_type": "execute_result"
    }
   ],
   "source": [
    "X_train[:4]"
   ]
  },
  {
   "cell_type": "code",
   "execution_count": 14,
   "id": "425d18a6",
   "metadata": {},
   "outputs": [
    {
     "data": {
      "text/plain": [
       "pandas.core.series.Series"
      ]
     },
     "execution_count": 14,
     "metadata": {},
     "output_type": "execute_result"
    }
   ],
   "source": [
    "type(y_train)"
   ]
  },
  {
   "cell_type": "code",
   "execution_count": 15,
   "id": "0a441180",
   "metadata": {},
   "outputs": [
    {
     "data": {
      "text/plain": [
       "4096    0\n",
       "689     0\n",
       "286     0\n",
       "4391    0\n",
       "Name: spam, dtype: int64"
      ]
     },
     "execution_count": 15,
     "metadata": {},
     "output_type": "execute_result"
    }
   ],
   "source": [
    "y_train[:4]"
   ]
  },
  {
   "cell_type": "code",
   "execution_count": 16,
   "id": "0144b67b",
   "metadata": {
    "scrolled": true
   },
   "outputs": [
    {
     "data": {
      "text/plain": [
       "numpy.ndarray"
      ]
     },
     "execution_count": 16,
     "metadata": {},
     "output_type": "execute_result"
    }
   ],
   "source": [
    "type(X_train.values)"
   ]
  },
  {
   "cell_type": "markdown",
   "id": "b7d2c01f",
   "metadata": {},
   "source": [
    "<h3>Create bag of words representation using CountVectorizer</h3>"
   ]
  },
  {
   "cell_type": "code",
   "execution_count": 18,
   "id": "41a212bd",
   "metadata": {},
   "outputs": [
    {
     "data": {
      "text/plain": [
       "<4457x7631 sparse matrix of type '<class 'numpy.int64'>'\n",
       "\twith 59424 stored elements in Compressed Sparse Row format>"
      ]
     },
     "execution_count": 18,
     "metadata": {},
     "output_type": "execute_result"
    }
   ],
   "source": [
    "from sklearn.feature_extraction.text import CountVectorizer\n",
    "\n",
    "v = CountVectorizer()\n",
    "\n",
    "X_train_cv = v.fit_transform(X_train.values) # X_train.values --> numpy array\n",
    "X_train_cv\n",
    "\n",
    "# creating vector count of each word in the data"
   ]
  },
  {
   "cell_type": "code",
   "execution_count": 19,
   "id": "30a01ec3",
   "metadata": {},
   "outputs": [
    {
     "data": {
      "text/plain": [
       "array([0, 0, 0, ..., 0, 0, 0], dtype=int64)"
      ]
     },
     "execution_count": 19,
     "metadata": {},
     "output_type": "execute_result"
    }
   ],
   "source": [
    "X_train_cv.toarray()[:2][0]"
   ]
  },
  {
   "cell_type": "code",
   "execution_count": 20,
   "id": "e3846715",
   "metadata": {},
   "outputs": [
    {
     "data": {
      "text/plain": [
       "(4457, 7631)"
      ]
     },
     "execution_count": 20,
     "metadata": {},
     "output_type": "execute_result"
    }
   ],
   "source": [
    "X_train_cv.shape # 7783 words in vocabulary"
   ]
  },
  {
   "cell_type": "code",
   "execution_count": 21,
   "id": "12f55cc1",
   "metadata": {},
   "outputs": [
    {
     "data": {
      "text/plain": [
       "array(['applausestore', 'applebees', 'apples', 'application', 'apply',\n",
       "       'applyed', 'applying', 'appointment', 'appreciate', 'appreciated',\n",
       "       'approaches', 'appropriate', 'approve', 'approved', 'approx',\n",
       "       'apps', 'appt', 'appy', 'april', 'aproach', 'apt', 'aptitude',\n",
       "       'aquarius', 'ar', 'arab', 'arabian', 'arcade', 'ard', 'are',\n",
       "       'area', 'aren', 'arent', 'areyouunique', 'argentina', 'argh',\n",
       "       'argue', 'arguing', 'argument', 'arguments', 'aries', 'arise',\n",
       "       'arises', 'arithmetic', 'arm', 'armand', 'armenia', 'arms', 'arng',\n",
       "       'arngd', 'arnt'], dtype=object)"
      ]
     },
     "execution_count": 21,
     "metadata": {},
     "output_type": "execute_result"
    }
   ],
   "source": [
    "v.get_feature_names_out()[1000:1050]"
   ]
  },
  {
   "cell_type": "code",
   "execution_count": 22,
   "id": "75683d2d-4689-4cfa-b4be-fa2ab8df71ac",
   "metadata": {
    "scrolled": true
   },
   "outputs": [
    {
     "data": {
      "text/plain": [
       "['__annotations__',\n",
       " '__class__',\n",
       " '__delattr__',\n",
       " '__dict__',\n",
       " '__dir__',\n",
       " '__doc__',\n",
       " '__eq__',\n",
       " '__format__',\n",
       " '__ge__',\n",
       " '__getattribute__',\n",
       " '__getstate__',\n",
       " '__gt__',\n",
       " '__hash__',\n",
       " '__init__',\n",
       " '__init_subclass__',\n",
       " '__le__',\n",
       " '__lt__',\n",
       " '__module__',\n",
       " '__ne__',\n",
       " '__new__',\n",
       " '__reduce__',\n",
       " '__reduce_ex__',\n",
       " '__repr__',\n",
       " '__setattr__',\n",
       " '__setstate__',\n",
       " '__sizeof__',\n",
       " '__sklearn_clone__',\n",
       " '__str__',\n",
       " '__subclasshook__',\n",
       " '__weakref__',\n",
       " '_build_request_for_signature',\n",
       " '_char_ngrams',\n",
       " '_char_wb_ngrams',\n",
       " '_check_feature_names',\n",
       " '_check_n_features',\n",
       " '_check_stop_words_consistency',\n",
       " '_check_vocabulary',\n",
       " '_count_vocab',\n",
       " '_get_default_requests',\n",
       " '_get_metadata_request',\n",
       " '_get_param_names',\n",
       " '_get_tags',\n",
       " '_limit_features',\n",
       " '_more_tags',\n",
       " '_parameter_constraints',\n",
       " '_repr_html_',\n",
       " '_repr_html_inner',\n",
       " '_repr_mimebundle_',\n",
       " '_sort_features',\n",
       " '_stop_words_id',\n",
       " '_validate_data',\n",
       " '_validate_ngram_range',\n",
       " '_validate_params',\n",
       " '_validate_vocabulary',\n",
       " '_warn_for_unused_params',\n",
       " '_white_spaces',\n",
       " '_word_ngrams',\n",
       " 'analyzer',\n",
       " 'binary',\n",
       " 'build_analyzer',\n",
       " 'build_preprocessor',\n",
       " 'build_tokenizer',\n",
       " 'decode',\n",
       " 'decode_error',\n",
       " 'dtype',\n",
       " 'encoding',\n",
       " 'fit',\n",
       " 'fit_transform',\n",
       " 'fixed_vocabulary_',\n",
       " 'get_feature_names_out',\n",
       " 'get_metadata_routing',\n",
       " 'get_params',\n",
       " 'get_stop_words',\n",
       " 'input',\n",
       " 'inverse_transform',\n",
       " 'lowercase',\n",
       " 'max_df',\n",
       " 'max_features',\n",
       " 'min_df',\n",
       " 'ngram_range',\n",
       " 'preprocessor',\n",
       " 'set_fit_request',\n",
       " 'set_params',\n",
       " 'set_transform_request',\n",
       " 'stop_words',\n",
       " 'stop_words_',\n",
       " 'strip_accents',\n",
       " 'token_pattern',\n",
       " 'tokenizer',\n",
       " 'transform',\n",
       " 'vocabulary',\n",
       " 'vocabulary_']"
      ]
     },
     "execution_count": 22,
     "metadata": {},
     "output_type": "execute_result"
    }
   ],
   "source": [
    "dir(v) # gives all the methods"
   ]
  },
  {
   "cell_type": "code",
   "execution_count": 23,
   "id": "7ed0a094",
   "metadata": {},
   "outputs": [
    {
     "data": {
      "text/plain": [
       "{'ain': 865,\n",
       " 'answerin': 968,\n",
       " 'no': 4712,\n",
       " 'phone': 5104,\n",
       " 'at': 1094,\n",
       " 'what': 7361,\n",
       " 'is': 3707,\n",
       " 'actually': 800,\n",
       " 'pretty': 5308,\n",
       " 'reasonable': 5517,\n",
       " 'hour': 3477,\n",
       " 'but': 1551,\n",
       " 'sleepy': 6122,\n",
       " 'thanks': 6703,\n",
       " 'love': 4173,\n",
       " 'am': 919,\n",
       " 'doing': 2353,\n",
       " 'torch': 6883,\n",
       " 'or': 4889,\n",
       " 'bold': 1395,\n",
       " 'might': 4410,\n",
       " 'come': 1868,\n",
       " 'by': 1566,\n",
       " 'tonight': 6865,\n",
       " 'then': 6726,\n",
       " 'if': 3564,\n",
       " 'my': 4594,\n",
       " 'class': 1797,\n",
       " 'lets': 4035,\n",
       " 'out': 4923,\n",
       " 'early': 2464,\n",
       " 'do': 2332,\n",
       " 'you': 7593,\n",
       " 'know': 3911,\n",
       " 'why': 7389,\n",
       " 'god': 3132,\n",
       " 'created': 2033,\n",
       " 'gap': 3035,\n",
       " 'between': 1310,\n",
       " 'your': 7597,\n",
       " 'fingers': 2815,\n",
       " 'so': 6180,\n",
       " 'that': 6710,\n",
       " 'one': 4856,\n",
       " 'who': 7382,\n",
       " 'made': 4249,\n",
       " 'for': 2897,\n",
       " 'comes': 1870,\n",
       " 'amp': 934,\n",
       " 'fills': 2799,\n",
       " 'those': 6761,\n",
       " 'gaps': 3036,\n",
       " 'holding': 3430,\n",
       " 'hand': 3271,\n",
       " 'with': 7433,\n",
       " 'ur': 7093,\n",
       " 'going': 3137,\n",
       " 'bahamas': 1180,\n",
       " 'callfreefone': 1588,\n",
       " '08081560665': 58,\n",
       " 'and': 943,\n",
       " 'speak': 6252,\n",
       " 'to': 6835,\n",
       " 'live': 4099,\n",
       " 'operator': 4878,\n",
       " 'claim': 1790,\n",
       " 'either': 2515,\n",
       " 'cruise': 2051,\n",
       " 'of': 4807,\n",
       " '2000': 341,\n",
       " 'cash': 1642,\n",
       " '18': 313,\n",
       " 'only': 4861,\n",
       " 'opt': 4884,\n",
       " 'txt': 6990,\n",
       " '07786200117': 28,\n",
       " 'brainless': 1458,\n",
       " 'baby': 1168,\n",
       " 'doll': 2357,\n",
       " 'vehicle': 7156,\n",
       " 'sariyag': 5809,\n",
       " 'drive': 2413,\n",
       " 'madoke': 4250,\n",
       " 'barolla': 1212,\n",
       " 'married': 4306,\n",
       " 'local': 4117,\n",
       " 'women': 7457,\n",
       " 'looking': 4147,\n",
       " 'discreet': 2307,\n",
       " 'action': 794,\n",
       " 'now': 4760,\n",
       " 'real': 5503,\n",
       " 'matches': 4318,\n",
       " 'instantly': 3661,\n",
       " 'text': 6687,\n",
       " 'match': 4316,\n",
       " '69969': 594,\n",
       " 'msg': 4546,\n",
       " 'cost': 1984,\n",
       " '150p': 297,\n",
       " 'stop': 6388,\n",
       " 'bcmsfwc1n3xx': 1244,\n",
       " 'can': 1601,\n",
       " 'tell': 6654,\n",
       " 'shola': 6005,\n",
       " 'please': 5162,\n",
       " 'go': 3126,\n",
       " 'college': 1858,\n",
       " 'medicine': 4362,\n",
       " 'visit': 7194,\n",
       " 'the': 6714,\n",
       " 'academic': 769,\n",
       " 'department': 2208,\n",
       " 'secretary': 5877,\n",
       " 'current': 2083,\n",
       " 'situation': 6094,\n",
       " 'ask': 1073,\n",
       " 'she': 5974,\n",
       " 'transfer': 6912,\n",
       " 'there': 6732,\n",
       " 'should': 6020,\n",
       " 'someone': 6197,\n",
       " 'check': 1722,\n",
       " 'sagamu': 5778,\n",
       " 'same': 5794,\n",
       " 'thing': 6743,\n",
       " 'lautech': 3987,\n",
       " 'its': 3725,\n",
       " 'vital': 7197,\n",
       " 'completes': 1894,\n",
       " 'her': 3372,\n",
       " 'medical': 4361,\n",
       " 'education': 2492,\n",
       " 'in': 3608,\n",
       " 'nigeria': 4693,\n",
       " 'less': 4030,\n",
       " 'expensive': 2677,\n",
       " 'much': 4564,\n",
       " 'unless': 7062,\n",
       " 'will': 7404,\n",
       " 'be': 1250,\n",
       " 'getting': 3088,\n",
       " 'citizen': 1786,\n",
       " 'rates': 5478,\n",
       " 'new': 4678,\n",
       " 'zealand': 7619,\n",
       " 'mm': 4462,\n",
       " 'time': 6801,\n",
       " 'dont': 2366,\n",
       " 'like': 4060,\n",
       " 'fun': 3002,\n",
       " 'os': 4910,\n",
       " 'called': 1584,\n",
       " 'ubandu': 7007,\n",
       " 'which': 7376,\n",
       " 'run': 5754,\n",
       " 'without': 7437,\n",
       " 'installing': 3659,\n",
       " 'hard': 3297,\n",
       " 'disk': 2311,\n",
       " 'use': 7110,\n",
       " 'copy': 1972,\n",
       " 'important': 3597,\n",
       " 'files': 2795,\n",
       " 'system': 6578,\n",
       " 'give': 3108,\n",
       " 'it': 3719,\n",
       " 'repair': 5612,\n",
       " 'shop': 6007,\n",
       " 'yeah': 7565,\n",
       " 'fine': 2813,\n",
       " 'get': 3080,\n",
       " 'ok': 4830,\n",
       " 'hmmm': 3417,\n",
       " 'mayb': 4338,\n",
       " 'try': 6955,\n",
       " 'shoppin': 6008,\n",
       " 'area': 1029,\n",
       " 'forgot': 2909,\n",
       " 'name': 4614,\n",
       " 'hotel': 3472,\n",
       " 'bot': 1421,\n",
       " 'notes': 4751,\n",
       " 'oredi': 4899,\n",
       " 'cos': 1982,\n",
       " 'juz': 3833,\n",
       " 'rem': 5589,\n",
       " 'got': 3163,\n",
       " 'want': 7265,\n",
       " 'happen': 3286,\n",
       " 'dear': 2155,\n",
       " 'me': 4346,\n",
       " 'change': 1691,\n",
       " 'also': 912,\n",
       " 'okie': 4835,\n",
       " 'was': 7277,\n",
       " 'nice': 4688,\n",
       " 'day': 2144,\n",
       " 'impressively': 3605,\n",
       " 'sensible': 5918,\n",
       " 'went': 7345,\n",
       " 'home': 3436,\n",
       " 'feel': 2762,\n",
       " 'just': 3829,\n",
       " 'boring': 1416,\n",
       " 'when': 7367,\n",
       " 'yours': 7601,\n",
       " 'remember': 5593,\n",
       " 'worse': 7488,\n",
       " 'are': 1028,\n",
       " 'driving': 2416,\n",
       " 'training': 6905,\n",
       " 'boy': 1448,\n",
       " 'best': 1305,\n",
       " 'yo': 7588,\n",
       " 'ass': 1082,\n",
       " 'here': 3373,\n",
       " 'quick': 5433,\n",
       " 'future': 3014,\n",
       " 'not': 4748,\n",
       " 'we': 7303,\n",
       " 'planned': 5149,\n",
       " 'tomorrow': 6859,\n",
       " 'result': 5658,\n",
       " 'today': 6840,\n",
       " 'present': 5300,\n",
       " 'enjoy': 2564,\n",
       " 'excellent': 2656,\n",
       " 'wish': 7425,\n",
       " 'were': 7348,\n",
       " 'together': 6844,\n",
       " 'right': 5683,\n",
       " 'shit': 5995,\n",
       " 'wasn': 7279,\n",
       " 'surprised': 6535,\n",
       " 'spent': 6268,\n",
       " 'evening': 2626,\n",
       " 'french': 2957,\n",
       " 'guy': 3243,\n",
       " 'met': 4401,\n",
       " 'town': 6899,\n",
       " 'fooled': 2891,\n",
       " 'around': 1050,\n",
       " 'bit': 1346,\n",
       " 'didn': 2259,\n",
       " 'let': 4034,\n",
       " 'him': 3397,\n",
       " 'fuck': 2989,\n",
       " 'jordan': 3806,\n",
       " 'voted': 7214,\n",
       " 'last': 3971,\n",
       " 'nite': 4706,\n",
       " 'thats': 6713,\n",
       " 'cool': 1966,\n",
       " 'princess': 5319,\n",
       " 'cover': 2008,\n",
       " 'face': 2703,\n",
       " 'hot': 3471,\n",
       " 'sticky': 6372,\n",
       " 'cum': 2075,\n",
       " 'free': 2945,\n",
       " 'single': 6078,\n",
       " 'find': 2810,\n",
       " 'partner': 5007,\n",
       " '1000s': 250,\n",
       " 'people': 5059,\n",
       " 'waiting': 7245,\n",
       " 'chat': 1712,\n",
       " 'send': 5911,\n",
       " '62220cncl': 573,\n",
       " 'stopcs': 6393,\n",
       " '08717890890': 129,\n",
       " '50': 531,\n",
       " 'per': 5061,\n",
       " 'oops': 4870,\n",
       " 'did': 2257,\n",
       " 'have': 3319,\n",
       " 'lt': 4195,\n",
       " 'gt': 3221,\n",
       " 'win': 7407,\n",
       " 'urgent': 7096,\n",
       " 'mobile': 4475,\n",
       " 'number': 4773,\n",
       " 'has': 3306,\n",
       " 'been': 1272,\n",
       " 'awarded': 1148,\n",
       " 'prize': 5329,\n",
       " 'guaranteed': 3225,\n",
       " 'call': 1579,\n",
       " '09061790121': 195,\n",
       " 'from': 2981,\n",
       " 'land': 3952,\n",
       " 'line': 4073,\n",
       " '3030': 427,\n",
       " 'valid': 7135,\n",
       " '12hrs': 281,\n",
       " '150ppm': 301,\n",
       " 'as': 1064,\n",
       " 'registered': 5573,\n",
       " 'optin': 4886,\n",
       " 'subscriber': 6461,\n",
       " 'draw': 2400,\n",
       " '100': 248,\n",
       " 'gift': 3095,\n",
       " 'voucher': 7216,\n",
       " 'entered': 2573,\n",
       " 'on': 4851,\n",
       " 'receipt': 5527,\n",
       " 'correct': 1977,\n",
       " 'ans': 964,\n",
       " '80062': 635,\n",
       " 'whats': 7363,\n",
       " 'no1': 4713,\n",
       " 'bbc': 1235,\n",
       " 'charts': 1708,\n",
       " 'wants': 7269,\n",
       " 'talk': 6599,\n",
       " 'onum': 4864,\n",
       " 'ela': 2517,\n",
       " 'pa': 4957,\n",
       " 'normal': 4740,\n",
       " 'than': 6699,\n",
       " 'private': 5327,\n",
       " '2003': 342,\n",
       " 'account': 783,\n",
       " 'statement': 6347,\n",
       " '07973788240': 41,\n",
       " 'shows': 6034,\n",
       " '800': 633,\n",
       " 'un': 7026,\n",
       " 'redeemed': 5554,\n",
       " 'points': 5198,\n",
       " '08715203649': 115,\n",
       " 'identifier': 3558,\n",
       " 'code': 1843,\n",
       " '40533': 475,\n",
       " 'expires': 2682,\n",
       " '31': 434,\n",
       " '10': 247,\n",
       " '04': 13,\n",
       " 'where': 7371,\n",
       " 'reach': 5493,\n",
       " 'ummma': 7024,\n",
       " 'after': 838,\n",
       " 'our': 4920,\n",
       " 'life': 4050,\n",
       " 'begin': 1282,\n",
       " 'qatar': 5418,\n",
       " 'pls': 5168,\n",
       " 'pray': 5277,\n",
       " 'very': 7162,\n",
       " 'next': 4684,\n",
       " 'amazing': 921,\n",
       " 'xxx': 7541,\n",
       " 'picsfree1': 5120,\n",
       " 'video': 7171,\n",
       " 'sent': 5920,\n",
       " 'vid': 7170,\n",
       " 'enough': 2570,\n",
       " '2day': 381,\n",
       " 'back': 1173,\n",
       " 'keyword': 3876,\n",
       " 'replying': 5621,\n",
       " 'boye': 1449,\n",
       " 'changed': 1692,\n",
       " 'his': 3403,\n",
       " 'alright': 910,\n",
       " 'see': 5886,\n",
       " 'oh': 4825,\n",
       " 'forwarded': 2923,\n",
       " 'message': 4394,\n",
       " 'thought': 6765,\n",
       " 'romcapspam': 5716,\n",
       " 'everyone': 2635,\n",
       " 'responding': 5646,\n",
       " 'well': 7340,\n",
       " 'presence': 5299,\n",
       " 'since': 6072,\n",
       " 'warm': 7271,\n",
       " 'outgoing': 4928,\n",
       " 'bringing': 1486,\n",
       " 'breath': 1471,\n",
       " 'sunshine': 6510,\n",
       " 'id': 3553,\n",
       " 'bowls': 1432,\n",
       " 'worth': 7490,\n",
       " 'left': 4015,\n",
       " '21870000': 351,\n",
       " 'hi': 3386,\n",
       " 'this': 6753,\n",
       " 'mailbox': 4263,\n",
       " 'messaging': 4397,\n",
       " 'sms': 6161,\n",
       " 'alert': 885,\n",
       " 'messages': 4396,\n",
       " '21': 350,\n",
       " '09056242159': 165,\n",
       " 'retrieve': 5663,\n",
       " 'darlin': 2130,\n",
       " 'supose': 6518,\n",
       " 'worry': 7486,\n",
       " 'too': 6870,\n",
       " 'some': 6193,\n",
       " 'film': 2800,\n",
       " 'stuff': 6439,\n",
       " 'mate': 4319,\n",
       " 'babysit': 1171,\n",
       " 'again': 844,\n",
       " 'xx': 7539,\n",
       " 'haf': 3255,\n",
       " 'pick': 5115,\n",
       " 'parents': 4997,\n",
       " 'up': 7076,\n",
       " 'tonite': 6867,\n",
       " 'll': 4106,\n",
       " 'riley': 5687,\n",
       " 'plans': 5151,\n",
       " 'think': 6745,\n",
       " 'about': 756,\n",
       " '09066350750': 216,\n",
       " 'landline': 3954,\n",
       " 'complimentary': 1897,\n",
       " 'ibiza': 3541,\n",
       " 'holiday': 3432,\n",
       " '000': 1,\n",
       " 'await': 1144,\n",
       " 'collection': 1857,\n",
       " 'sae': 5773,\n",
       " 'cs': 2054,\n",
       " 'po': 5177,\n",
       " 'box': 1433,\n",
       " '434': 485,\n",
       " 'sk3': 6099,\n",
       " '8wp': 716,\n",
       " '150': 295,\n",
       " 'ppm': 5261,\n",
       " 'hurt': 3524,\n",
       " 'tease': 6640,\n",
       " 'make': 4268,\n",
       " 'cry': 2053,\n",
       " 'end': 2550,\n",
       " 'die': 2262,\n",
       " 'plz': 5174,\n",
       " 'keep': 3861,\n",
       " 'rose': 5724,\n",
       " 'grave': 3193,\n",
       " 'say': 5828,\n",
       " 'stupid': 6445,\n",
       " 'miss': 4445,\n",
       " 'bslvyl': 1511,\n",
       " 're': 5492,\n",
       " 'hooked': 3450,\n",
       " 'guys': 3244,\n",
       " 'da': 2105,\n",
       " 'intro': 3680,\n",
       " 'covers': 2010,\n",
       " 'energy': 2558,\n",
       " 'trends': 6935,\n",
       " 'pros': 5371,\n",
       " 'cons': 1933,\n",
       " 'brief': 1480,\n",
       " 'description': 2220,\n",
       " 'nuclear': 4769,\n",
       " 'fusion': 3013,\n",
       " 'oso': 4912,\n",
       " 'history': 3404,\n",
       " 'iter': 3722,\n",
       " 'jet': 3778,\n",
       " 'abt': 763,\n",
       " 'half': 3263,\n",
       " 'pages': 4964,\n",
       " 'them': 6722,\n",
       " '500': 532,\n",
       " 'mobiles': 4476,\n",
       " '2004': 343,\n",
       " 'must': 4587,\n",
       " 'nokia': 4722,\n",
       " '89545': 706,\n",
       " 'collect': 1854,\n",
       " 'www': 7524,\n",
       " 'tc': 6628,\n",
       " 'biz': 1352,\n",
       " '2optout': 407,\n",
       " '087187262701': 135,\n",
       " '50gbp': 537,\n",
       " 'mtmsg18': 4559,\n",
       " 'hey': 3383,\n",
       " 'told': 6850,\n",
       " 'gautham': 3047,\n",
       " 'ah': 855,\n",
       " 'de': 2149,\n",
       " 'good': 3148,\n",
       " 'information': 3641,\n",
       " 'orange': 4893,\n",
       " 'user': 7113,\n",
       " '0789xxxxxxx': 38,\n",
       " 'lucky': 4201,\n",
       " '2find': 386,\n",
       " 'log': 4125,\n",
       " 'onto': 4863,\n",
       " 'http': 3499,\n",
       " 'urawinner': 7094,\n",
       " 'com': 1863,\n",
       " 'fantastic': 2732,\n",
       " 'surprise': 6534,\n",
       " 'awaiting': 1145,\n",
       " 'work': 7475,\n",
       " 'won': 7458,\n",
       " 'week': 7323,\n",
       " 'membership': 4382,\n",
       " 'jackpot': 3738,\n",
       " 'word': 7473,\n",
       " '81010': 646,\n",
       " 'dbuk': 2147,\n",
       " 'net': 4666,\n",
       " 'lccltd': 3994,\n",
       " 'pobox': 5179,\n",
       " '4403ldnw1a7rw18': 488,\n",
       " 'congratulations': 1928,\n",
       " 'cd': 1665,\n",
       " 'vouchers': 7217,\n",
       " '125gift': 278,\n",
       " 'entry': 2581,\n",
       " 'wkly': 7444,\n",
       " 'music': 4584,\n",
       " '87066': 685,\n",
       " 'tncs': 6834,\n",
       " 'ldew': 3996,\n",
       " 'com1win150ppmx3age16': 1864,\n",
       " 'luck': 4199,\n",
       " 'takes': 6594,\n",
       " 'place': 5141,\n",
       " '28th': 375,\n",
       " 'feb': 2757,\n",
       " '06': 16,\n",
       " 'removal': 5601,\n",
       " '87239': 692,\n",
       " 'customer': 2091,\n",
       " 'services': 5934,\n",
       " '08708034412': 87,\n",
       " 'fujitsu': 2996,\n",
       " 'series': 5928,\n",
       " 'lifebook': 4051,\n",
       " 'ya': 7551,\n",
       " 'hip': 3401,\n",
       " 'hop': 3452,\n",
       " 'open': 4871,\n",
       " 'haha': 3256,\n",
       " 'thinking': 6748,\n",
       " 'jazz': 3760,\n",
       " 'zoom': 7626,\n",
       " 'cine': 1784,\n",
       " 'leh': 4021,\n",
       " 'kb': 3859,\n",
       " 'lesson': 4032,\n",
       " 'shall': 5961,\n",
       " 'exe': 2664,\n",
       " 'mail': 4262,\n",
       " 'how': 3485,\n",
       " 'little': 4098,\n",
       " 'child': 1752,\n",
       " 'afraid': 834,\n",
       " 'dark': 2126,\n",
       " 'become': 1262,\n",
       " 'teenager': 6646,\n",
       " 'stay': 6350,\n",
       " 'all': 897,\n",
       " 'night': 4695,\n",
       " 'themob': 6725,\n",
       " 'newest': 4680,\n",
       " 'selection': 5899,\n",
       " 'content': 1947,\n",
       " 'games': 3030,\n",
       " 'tones': 6861,\n",
       " 'gossip': 3162,\n",
       " 'babes': 1166,\n",
       " 'sport': 6296,\n",
       " 'fit': 2831,\n",
       " 'funky': 3008,\n",
       " 'wap': 7270,\n",
       " '82468': 655,\n",
       " 'taking': 6596,\n",
       " 'leave': 4009,\n",
       " 'bec': 1259,\n",
       " 'blankets': 1361,\n",
       " 'sufficient': 6482,\n",
       " 'thx': 6788,\n",
       " 'que': 5427,\n",
       " 'pases': 5012,\n",
       " 'buen': 1522,\n",
       " 'tiempo': 6793,\n",
       " 'something': 6202,\n",
       " 'holder': 3429,\n",
       " 'meal': 4347,\n",
       " 'us': 7106,\n",
       " 'following': 2881,\n",
       " 'link': 4078,\n",
       " 'pc': 5043,\n",
       " 'dining': 2283,\n",
       " 'experiencehttp': 2679,\n",
       " 'vouch4me': 7215,\n",
       " 'etlp': 2616,\n",
       " 'asp': 1080,\n",
       " 'anyway': 984,\n",
       " 'need': 4646,\n",
       " 'said': 5780,\n",
       " 'ringtone': 5692,\n",
       " 'order': 4896,\n",
       " 'reference': 5558,\n",
       " 'x49': 7528,\n",
       " 'charged': 1701,\n",
       " 'tone': 6860,\n",
       " 'arrive': 1057,\n",
       " '09065989182': 215,\n",
       " 'colour': 1860,\n",
       " 'red': 5552,\n",
       " 'txtstar': 6996,\n",
       " 'they': 6739,\n",
       " 'cant': 1612,\n",
       " 'most': 4520,\n",
       " 'tmr': 6829,\n",
       " 'forfeit': 2904,\n",
       " 'surfing': 6531,\n",
       " 'online': 4860,\n",
       " 'store': 6398,\n",
       " 'offers': 4814,\n",
       " 'buy': 1556,\n",
       " 'any': 975,\n",
       " 'sorry': 6224,\n",
       " 'later': 3977,\n",
       " 'earlier': 2462,\n",
       " 'putting': 5416,\n",
       " 'fires': 2825,\n",
       " 'lol': 4134,\n",
       " 'weekly': 7327,\n",
       " 'comp': 1881,\n",
       " 'chance': 1689,\n",
       " 'an': 940,\n",
       " 'ipod': 3698,\n",
       " 'pod': 5195,\n",
       " '80182': 640,\n",
       " 'std': 6355,\n",
       " 'rate': 5477,\n",
       " 'apply': 1004,\n",
       " '08452810073': 65,\n",
       " 'details': 2232,\n",
       " 'toot': 6875,\n",
       " 'fringe': 2969,\n",
       " 'charge': 1700,\n",
       " 'morning': 4516,\n",
       " 'finished': 2818,\n",
       " 'yet': 7579,\n",
       " 'resume': 5660,\n",
       " 'sam': 5791,\n",
       " 'eachother': 2460,\n",
       " 'meet': 4365,\n",
       " 'house': 3480,\n",
       " 'crucify': 2050,\n",
       " 'staff': 6322,\n",
       " 'would': 7494,\n",
       " 'mom': 4491,\n",
       " 'whole': 7384,\n",
       " 'family': 2724,\n",
       " 'crazy': 2029,\n",
       " 'terrible': 6675,\n",
       " 'stayin': 6352,\n",
       " 'trouble': 6944,\n",
       " 'stranger': 6408,\n",
       " 'saw': 5827,\n",
       " 'dave': 2142,\n",
       " 'other': 4914,\n",
       " 'he': 3329,\n",
       " 'sorted': 6226,\n",
       " 'still': 6375,\n",
       " 'bloke': 1372,\n",
       " 'gona': 3143,\n",
       " 'girl': 3102,\n",
       " 'mr': 4541,\n",
       " 'mum': 4571,\n",
       " 'thinks': 6749,\n",
       " '2getha': 387,\n",
       " 'prabha': 5264,\n",
       " 'soryda': 6229,\n",
       " 'realy': 5514,\n",
       " 'frm': 2970,\n",
       " 'heart': 3342,\n",
       " 'sory': 6228,\n",
       " 'doesn': 2342,\n",
       " 'stalk': 6324,\n",
       " 'profiles': 5347,\n",
       " 'probs': 5341,\n",
       " 'hon': 3438,\n",
       " 'doinat': 2352,\n",
       " 'mo': 4472,\n",
       " 'dude': 2440,\n",
       " 'sup': 6512,\n",
       " 'yay': 7563,\n",
       " 'wait': 7242,\n",
       " 'party': 5010,\n",
       " 'email': 2534,\n",
       " 'soon': 6215,\n",
       " 'gr8': 3176,\n",
       " 'leaving': 4011,\n",
       " 'congrats': 1926,\n",
       " 'school': 5840,\n",
       " 'wat': 7283,\n",
       " 'watching': 7288,\n",
       " 'tv': 6982,\n",
       " 'lor': 4152,\n",
       " 'funny': 3009,\n",
       " 'bluff': 1385,\n",
       " 'izzit': 3734,\n",
       " 'because': 1260,\n",
       " 'thk': 6754,\n",
       " 'impossible': 3600,\n",
       " 'rats': 5481,\n",
       " 'ever': 2629,\n",
       " 'vote': 7213,\n",
       " 'themes': 6724,\n",
       " 'small': 6141,\n",
       " 'prestige': 5306,\n",
       " 'problem': 5336,\n",
       " 've': 7152,\n",
       " 'reached': 5495,\n",
       " 'finally': 2807,\n",
       " 'si': 6046,\n",
       " 'como': 1880,\n",
       " 'listened2the': 4090,\n",
       " 'plaid': 5144,\n",
       " 'album': 882,\n",
       " 'quite': 5437,\n",
       " 'gd': 3059,\n",
       " 'air1': 868,\n",
       " 'hilarious': 3393,\n",
       " 'bought': 1427,\n",
       " 'braindance': 1457,\n",
       " 'ofstuff': 4821,\n",
       " 'aphex': 990,\n",
       " 'abel': 748,\n",
       " 'hav2hear': 3317,\n",
       " 'sn': 6167,\n",
       " 'xxxx': 7543,\n",
       " 'symptoms': 6574,\n",
       " 'listening': 4092,\n",
       " 'songs': 6211,\n",
       " 'stopped': 6394,\n",
       " 'beloved': 1296,\n",
       " 'angry': 949,\n",
       " 'yar': 7557,\n",
       " 'wanted': 7267,\n",
       " 'scold': 5843,\n",
       " 'yest': 7577,\n",
       " 'late': 3974,\n",
       " 'already': 909,\n",
       " 'zhong': 7623,\n",
       " 'se': 5866,\n",
       " 'qing': 5422,\n",
       " 'b4': 1158,\n",
       " 'act': 791,\n",
       " 'banneduk': 1201,\n",
       " '89555': 707,\n",
       " 'textoperator': 6695,\n",
       " 'g696ga': 3019,\n",
       " 'yes': 7576,\n",
       " 'replied': 5618,\n",
       " 'management': 4282,\n",
       " 'office': 4815,\n",
       " 'plus': 5172,\n",
       " 'bank': 1198,\n",
       " 'wednesday': 7319,\n",
       " 'snow': 6175,\n",
       " 'kind': 3893,\n",
       " 'weather': 7309,\n",
       " 'brings': 1487,\n",
       " 'ppl': 5259,\n",
       " 'friendships': 2967,\n",
       " 'grow': 3215,\n",
       " 'started': 6339,\n",
       " 'before': 1278,\n",
       " 'dull': 2444,\n",
       " 'easy': 2475,\n",
       " 'guess': 3231,\n",
       " 'dropped': 2420,\n",
       " 'trying': 6957,\n",
       " 'success': 6469,\n",
       " '3510i': 445,\n",
       " 'delivered': 2193,\n",
       " '200': 340,\n",
       " 'minutes': 4435,\n",
       " 'camcorder': 1595,\n",
       " 'reply': 5620,\n",
       " '08000930705': 48,\n",
       " 'does': 2341,\n",
       " 'dance': 2117,\n",
       " 'river': 5701,\n",
       " 'yetunde': 7581,\n",
       " 'water': 7290,\n",
       " 'sports': 6297,\n",
       " 'fans': 2730,\n",
       " 'latest': 3978,\n",
       " 'news': 4682,\n",
       " 'str': 6403,\n",
       " 'wk': 7441,\n",
       " '8007': 636,\n",
       " 'getzed': 3089,\n",
       " 'co': 1835,\n",
       " 'uk': 7015,\n",
       " '0870141701216': 75,\n",
       " 'norm': 4738,\n",
       " '4txt': 524,\n",
       " '120p': 273,\n",
       " 'usual': 7120,\n",
       " 'iam': 3537,\n",
       " 'happy': 3296,\n",
       " 'pay': 5034,\n",
       " 'decimal': 2165,\n",
       " 'lakhs': 3948,\n",
       " 'birthday': 1344,\n",
       " 'lil': 4066,\n",
       " 'fever': 2774,\n",
       " 'take': 6592,\n",
       " 'care': 1624,\n",
       " 'sweet': 6555,\n",
       " 'dreams': 2403,\n",
       " 'ummifying': 7023,\n",
       " 'bye': 1567,\n",
       " '86888': 683,\n",
       " 'reward': 5674,\n",
       " 'hours': 3479,\n",
       " 'subscribe6gbp': 6459,\n",
       " 'mnth': 4470,\n",
       " 'inc': 3610,\n",
       " '3hrs': 458,\n",
       " '16': 308,\n",
       " 'txtstop': 6997,\n",
       " 'gamb': 3028,\n",
       " 'absolutly': 762,\n",
       " 'way': 7299,\n",
       " 'tirupur': 6813,\n",
       " 'tension': 6669,\n",
       " 'machi': 4240,\n",
       " 'laid': 3947,\n",
       " 'dogging': 2347,\n",
       " 'locations': 4119,\n",
       " 'direct': 2289,\n",
       " 'mob': 4474,\n",
       " 'join': 3794,\n",
       " 'largest': 3968,\n",
       " 'network': 4671,\n",
       " 'txting': 6994,\n",
       " 'moan': 4473,\n",
       " '69888nyt': 593,\n",
       " 'ec2a': 2481,\n",
       " '31p': 437,\n",
       " 'pool': 5215,\n",
       " 'money': 4498,\n",
       " 'bunch': 1533,\n",
       " 'lotto': 4166,\n",
       " 'tickets': 6792,\n",
       " 'deal': 2151,\n",
       " 'notice': 4754,\n",
       " 'anyone': 979,\n",
       " 'slower': 6136,\n",
       " 'idiot': 3560,\n",
       " 'faster': 2738,\n",
       " 'maniac': 4290,\n",
       " 'activate': 795,\n",
       " 'terms': 6673,\n",
       " 'conditions': 1915,\n",
       " '07781482378': 27,\n",
       " 'drug': 2424,\n",
       " 'anymore': 978,\n",
       " 'railway': 5451,\n",
       " 'movie': 4535,\n",
       " 'xy': 7549,\n",
       " 'shopping': 6009,\n",
       " 'todays': 6841,\n",
       " 'vodafone': 7204,\n",
       " 'numbers': 4774,\n",
       " 'ending': 2552,\n",
       " '4882': 503,\n",
       " 'selected': 5898,\n",
       " 'receive': 5529,\n",
       " '350': 444,\n",
       " 'award': 1147,\n",
       " '09064019014': 207,\n",
       " 'really': 5512,\n",
       " 'appreciate': 1008,\n",
       " 'massages': 4313,\n",
       " 'lots': 4162,\n",
       " 'oil': 4828,\n",
       " 'fave': 2748,\n",
       " 'position': 5231,\n",
       " 'mark': 4301,\n",
       " 'distract': 2317,\n",
       " 'isaiah': 3708,\n",
       " 'gonna': 3146,\n",
       " 'bak': 1184,\n",
       " 'coming': 1874,\n",
       " 'don': 2362,\n",
       " 't4get2text': 6579,\n",
       " 'sale': 5785,\n",
       " 'exciting': 2660,\n",
       " 'karaoke': 3851,\n",
       " 'type': 7000,\n",
       " 'activities': 797,\n",
       " 'debating': 2159,\n",
       " 'whether': 7375,\n",
       " 'play': 5154,\n",
       " 'football': 2893,\n",
       " 'eve': 2623,\n",
       " 'feeling': 2764,\n",
       " 'lazy': 3993,\n",
       " 'though': 6764,\n",
       " 'vague': 7130,\n",
       " 'inform': 3640,\n",
       " 'person': 5078,\n",
       " 'accounting': 784,\n",
       " 'delayed': 2188,\n",
       " 'rent': 5607,\n",
       " 'discuss': 2308,\n",
       " 'housing': 3484,\n",
       " 'agency': 850,\n",
       " 'renting': 5609,\n",
       " 'another': 963,\n",
       " 'checking': 1726,\n",
       " 'places': 5143,\n",
       " 'usc': 7109,\n",
       " 'sis': 6086,\n",
       " 'fast': 2737,\n",
       " 'suggest': 6487,\n",
       " 'dun': 2447,\n",
       " 'wan': 7260,\n",
       " 'rain': 5452,\n",
       " 'couple': 2002,\n",
       " 'mu': 4562,\n",
       " 'gran': 3184,\n",
       " 'onlyfound': 4862,\n",
       " 'afew': 828,\n",
       " 'days': 2145,\n",
       " 'ago': 854,\n",
       " 'cusoon': 2087,\n",
       " 'honi': 3445,\n",
       " 'thinkin': 6747,\n",
       " 'mistake': 4451,\n",
       " 'stuck': 6429,\n",
       " 'middle': 4407,\n",
       " 'row': 5730,\n",
       " 'side': 6052,\n",
       " 'definitely': 2180,\n",
       " 'each': 2459,\n",
       " 'moment': 4492,\n",
       " 'own': 4950,\n",
       " 'value': 7138,\n",
       " 'hope': 3453,\n",
       " 'afternoon': 840,\n",
       " 'faith': 2716,\n",
       " 'luv': 4211,\n",
       " 'rest': 5650,\n",
       " '09066612661': 229,\n",
       " 'complementary': 1890,\n",
       " 'tenerife': 6667,\n",
       " 'wa14': 7234,\n",
       " '2px': 409,\n",
       " 'sender': 5912,\n",
       " 'hol': 3427,\n",
       " 'offer': 4811,\n",
       " 'always': 917,\n",
       " 'available': 1134,\n",
       " 'gram': 3182,\n",
       " 'usually': 7121,\n",
       " 'runs': 5756,\n",
       " 'eighth': 2512,\n",
       " 'smarter': 6144,\n",
       " 'gets': 3084,\n",
       " 'almost': 905,\n",
       " 'second': 5873,\n",
       " 'eaten': 2477,\n",
       " 'start': 6338,\n",
       " 'sending': 5913,\n",
       " 'blackberry': 1355,\n",
       " 'buyer': 1557,\n",
       " '4a': 507,\n",
       " 'month': 4505,\n",
       " 'dad': 2108,\n",
       " 'bb': 1234,\n",
       " 'lap': 3963,\n",
       " 'room': 5718,\n",
       " 'few': 2775,\n",
       " 'didnt': 2260,\n",
       " 'shut': 6044,\n",
       " 'down': 2386,\n",
       " '250': 364,\n",
       " 'spree': 6305,\n",
       " '80878': 645,\n",
       " 'custcare': 2089,\n",
       " '08715705022': 122,\n",
       " '1x150p': 337,\n",
       " 'ph': 5093,\n",
       " 'ad': 801,\n",
       " ...}"
      ]
     },
     "execution_count": 23,
     "metadata": {},
     "output_type": "execute_result"
    }
   ],
   "source": [
    "v.vocabulary_"
   ]
  },
  {
   "cell_type": "code",
   "execution_count": 24,
   "id": "a805af1f",
   "metadata": {},
   "outputs": [
    {
     "data": {
      "text/plain": [
       "array([0, 0, 0, ..., 0, 0, 0], dtype=int64)"
      ]
     },
     "execution_count": 24,
     "metadata": {},
     "output_type": "execute_result"
    }
   ],
   "source": [
    "X_train_np = X_train_cv.toarray()\n",
    "X_train_np[0]"
   ]
  },
  {
   "cell_type": "code",
   "execution_count": 25,
   "id": "79aa94f4",
   "metadata": {
    "scrolled": true
   },
   "outputs": [
    {
     "data": {
      "text/plain": [
       "(array([ 800,  865,  968, 1094, 1551, 3477, 3707, 4712, 5104, 5308, 5517,\n",
       "        6122, 7361], dtype=int64),)"
      ]
     },
     "execution_count": 25,
     "metadata": {},
     "output_type": "execute_result"
    }
   ],
   "source": [
    "np.where(X_train_np[0]!=0) # where indexes in not zero"
   ]
  },
  {
   "cell_type": "code",
   "execution_count": 26,
   "id": "50a37c71",
   "metadata": {
    "scrolled": true
   },
   "outputs": [
    {
     "data": {
      "text/plain": [
       "0"
      ]
     },
     "execution_count": 26,
     "metadata": {},
     "output_type": "execute_result"
    }
   ],
   "source": [
    "X_train_np[0][1771]"
   ]
  },
  {
   "cell_type": "markdown",
   "id": "e6ea444a",
   "metadata": {},
   "source": [
    "<h3>Train the naive bayes model</h3>"
   ]
  },
  {
   "cell_type": "code",
   "execution_count": 28,
   "id": "bf02cecc",
   "metadata": {},
   "outputs": [
    {
     "data": {
      "text/html": [
       "<style>#sk-container-id-1 {color: black;}#sk-container-id-1 pre{padding: 0;}#sk-container-id-1 div.sk-toggleable {background-color: white;}#sk-container-id-1 label.sk-toggleable__label {cursor: pointer;display: block;width: 100%;margin-bottom: 0;padding: 0.3em;box-sizing: border-box;text-align: center;}#sk-container-id-1 label.sk-toggleable__label-arrow:before {content: \"▸\";float: left;margin-right: 0.25em;color: #696969;}#sk-container-id-1 label.sk-toggleable__label-arrow:hover:before {color: black;}#sk-container-id-1 div.sk-estimator:hover label.sk-toggleable__label-arrow:before {color: black;}#sk-container-id-1 div.sk-toggleable__content {max-height: 0;max-width: 0;overflow: hidden;text-align: left;background-color: #f0f8ff;}#sk-container-id-1 div.sk-toggleable__content pre {margin: 0.2em;color: black;border-radius: 0.25em;background-color: #f0f8ff;}#sk-container-id-1 input.sk-toggleable__control:checked~div.sk-toggleable__content {max-height: 200px;max-width: 100%;overflow: auto;}#sk-container-id-1 input.sk-toggleable__control:checked~label.sk-toggleable__label-arrow:before {content: \"▾\";}#sk-container-id-1 div.sk-estimator input.sk-toggleable__control:checked~label.sk-toggleable__label {background-color: #d4ebff;}#sk-container-id-1 div.sk-label input.sk-toggleable__control:checked~label.sk-toggleable__label {background-color: #d4ebff;}#sk-container-id-1 input.sk-hidden--visually {border: 0;clip: rect(1px 1px 1px 1px);clip: rect(1px, 1px, 1px, 1px);height: 1px;margin: -1px;overflow: hidden;padding: 0;position: absolute;width: 1px;}#sk-container-id-1 div.sk-estimator {font-family: monospace;background-color: #f0f8ff;border: 1px dotted black;border-radius: 0.25em;box-sizing: border-box;margin-bottom: 0.5em;}#sk-container-id-1 div.sk-estimator:hover {background-color: #d4ebff;}#sk-container-id-1 div.sk-parallel-item::after {content: \"\";width: 100%;border-bottom: 1px solid gray;flex-grow: 1;}#sk-container-id-1 div.sk-label:hover label.sk-toggleable__label {background-color: #d4ebff;}#sk-container-id-1 div.sk-serial::before {content: \"\";position: absolute;border-left: 1px solid gray;box-sizing: border-box;top: 0;bottom: 0;left: 50%;z-index: 0;}#sk-container-id-1 div.sk-serial {display: flex;flex-direction: column;align-items: center;background-color: white;padding-right: 0.2em;padding-left: 0.2em;position: relative;}#sk-container-id-1 div.sk-item {position: relative;z-index: 1;}#sk-container-id-1 div.sk-parallel {display: flex;align-items: stretch;justify-content: center;background-color: white;position: relative;}#sk-container-id-1 div.sk-item::before, #sk-container-id-1 div.sk-parallel-item::before {content: \"\";position: absolute;border-left: 1px solid gray;box-sizing: border-box;top: 0;bottom: 0;left: 50%;z-index: -1;}#sk-container-id-1 div.sk-parallel-item {display: flex;flex-direction: column;z-index: 1;position: relative;background-color: white;}#sk-container-id-1 div.sk-parallel-item:first-child::after {align-self: flex-end;width: 50%;}#sk-container-id-1 div.sk-parallel-item:last-child::after {align-self: flex-start;width: 50%;}#sk-container-id-1 div.sk-parallel-item:only-child::after {width: 0;}#sk-container-id-1 div.sk-dashed-wrapped {border: 1px dashed gray;margin: 0 0.4em 0.5em 0.4em;box-sizing: border-box;padding-bottom: 0.4em;background-color: white;}#sk-container-id-1 div.sk-label label {font-family: monospace;font-weight: bold;display: inline-block;line-height: 1.2em;}#sk-container-id-1 div.sk-label-container {text-align: center;}#sk-container-id-1 div.sk-container {/* jupyter's `normalize.less` sets `[hidden] { display: none; }` but bootstrap.min.css set `[hidden] { display: none !important; }` so we also need the `!important` here to be able to override the default hidden behavior on the sphinx rendered scikit-learn.org. See: https://github.com/scikit-learn/scikit-learn/issues/21755 */display: inline-block !important;position: relative;}#sk-container-id-1 div.sk-text-repr-fallback {display: none;}</style><div id=\"sk-container-id-1\" class=\"sk-top-container\"><div class=\"sk-text-repr-fallback\"><pre>MultinomialNB()</pre><b>In a Jupyter environment, please rerun this cell to show the HTML representation or trust the notebook. <br />On GitHub, the HTML representation is unable to render, please try loading this page with nbviewer.org.</b></div><div class=\"sk-container\" hidden><div class=\"sk-item\"><div class=\"sk-estimator sk-toggleable\"><input class=\"sk-toggleable__control sk-hidden--visually\" id=\"sk-estimator-id-1\" type=\"checkbox\" checked><label for=\"sk-estimator-id-1\" class=\"sk-toggleable__label sk-toggleable__label-arrow\">MultinomialNB</label><div class=\"sk-toggleable__content\"><pre>MultinomialNB()</pre></div></div></div></div></div>"
      ],
      "text/plain": [
       "MultinomialNB()"
      ]
     },
     "execution_count": 28,
     "metadata": {},
     "output_type": "execute_result"
    }
   ],
   "source": [
    "from sklearn.naive_bayes import MultinomialNB\n",
    "\n",
    "model = MultinomialNB()\n",
    "model.fit(X_train_cv, y_train)"
   ]
  },
  {
   "cell_type": "code",
   "execution_count": 29,
   "id": "94f569a6",
   "metadata": {},
   "outputs": [],
   "source": [
    "X_test_cv = v.transform(X_test)"
   ]
  },
  {
   "cell_type": "markdown",
   "id": "101b8b8d",
   "metadata": {},
   "source": [
    "<h3>Evaluate Performance</h3>"
   ]
  },
  {
   "cell_type": "code",
   "execution_count": 31,
   "id": "1c0cb441",
   "metadata": {},
   "outputs": [
    {
     "name": "stdout",
     "output_type": "stream",
     "text": [
      "              precision    recall  f1-score   support\n",
      "\n",
      "           0       0.98      0.99      0.99       966\n",
      "           1       0.96      0.90      0.93       149\n",
      "\n",
      "    accuracy                           0.98      1115\n",
      "   macro avg       0.97      0.95      0.96      1115\n",
      "weighted avg       0.98      0.98      0.98      1115\n",
      "\n"
     ]
    }
   ],
   "source": [
    "from sklearn.metrics import classification_report\n",
    "\n",
    "y_pred = model.predict(X_test_cv)\n",
    "\n",
    "print(classification_report(y_test, y_pred))"
   ]
  },
  {
   "cell_type": "code",
   "execution_count": 32,
   "id": "27dcf0b7",
   "metadata": {
    "scrolled": true
   },
   "outputs": [
    {
     "data": {
      "text/plain": [
       "array([0, 1], dtype=int64)"
      ]
     },
     "execution_count": 32,
     "metadata": {},
     "output_type": "execute_result"
    }
   ],
   "source": [
    "emails = [\n",
    "    'Hey mohan, can we get together to watch footbal game tomorrow?', # Not spam\n",
    "    'Upto 20% discount on parking, exclusive offer just for you. Dont miss this reward!' # Spam\n",
    "]\n",
    "\n",
    "emails_count = v.transform(emails)\n",
    "model.predict(emails_count)"
   ]
  },
  {
   "cell_type": "markdown",
   "id": "22c9e2e2",
   "metadata": {},
   "source": [
    "<h3>Train the model using sklearn pipeline and reduce number of lines of code</h3>"
   ]
  },
  {
   "cell_type": "code",
   "execution_count": 34,
   "id": "863f5ffa",
   "metadata": {},
   "outputs": [],
   "source": [
    "# Directly create a pipeline instead of writing all the code.\n",
    "\n",
    "from sklearn.pipeline import Pipeline\n",
    "\n",
    "clf = Pipeline([\n",
    "    ('vectorizer', CountVectorizer()),\n",
    "    ('nb', MultinomialNB())\n",
    "])"
   ]
  },
  {
   "cell_type": "code",
   "execution_count": 35,
   "id": "26ecc1d4",
   "metadata": {},
   "outputs": [
    {
     "data": {
      "text/html": [
       "<style>#sk-container-id-2 {color: black;}#sk-container-id-2 pre{padding: 0;}#sk-container-id-2 div.sk-toggleable {background-color: white;}#sk-container-id-2 label.sk-toggleable__label {cursor: pointer;display: block;width: 100%;margin-bottom: 0;padding: 0.3em;box-sizing: border-box;text-align: center;}#sk-container-id-2 label.sk-toggleable__label-arrow:before {content: \"▸\";float: left;margin-right: 0.25em;color: #696969;}#sk-container-id-2 label.sk-toggleable__label-arrow:hover:before {color: black;}#sk-container-id-2 div.sk-estimator:hover label.sk-toggleable__label-arrow:before {color: black;}#sk-container-id-2 div.sk-toggleable__content {max-height: 0;max-width: 0;overflow: hidden;text-align: left;background-color: #f0f8ff;}#sk-container-id-2 div.sk-toggleable__content pre {margin: 0.2em;color: black;border-radius: 0.25em;background-color: #f0f8ff;}#sk-container-id-2 input.sk-toggleable__control:checked~div.sk-toggleable__content {max-height: 200px;max-width: 100%;overflow: auto;}#sk-container-id-2 input.sk-toggleable__control:checked~label.sk-toggleable__label-arrow:before {content: \"▾\";}#sk-container-id-2 div.sk-estimator input.sk-toggleable__control:checked~label.sk-toggleable__label {background-color: #d4ebff;}#sk-container-id-2 div.sk-label input.sk-toggleable__control:checked~label.sk-toggleable__label {background-color: #d4ebff;}#sk-container-id-2 input.sk-hidden--visually {border: 0;clip: rect(1px 1px 1px 1px);clip: rect(1px, 1px, 1px, 1px);height: 1px;margin: -1px;overflow: hidden;padding: 0;position: absolute;width: 1px;}#sk-container-id-2 div.sk-estimator {font-family: monospace;background-color: #f0f8ff;border: 1px dotted black;border-radius: 0.25em;box-sizing: border-box;margin-bottom: 0.5em;}#sk-container-id-2 div.sk-estimator:hover {background-color: #d4ebff;}#sk-container-id-2 div.sk-parallel-item::after {content: \"\";width: 100%;border-bottom: 1px solid gray;flex-grow: 1;}#sk-container-id-2 div.sk-label:hover label.sk-toggleable__label {background-color: #d4ebff;}#sk-container-id-2 div.sk-serial::before {content: \"\";position: absolute;border-left: 1px solid gray;box-sizing: border-box;top: 0;bottom: 0;left: 50%;z-index: 0;}#sk-container-id-2 div.sk-serial {display: flex;flex-direction: column;align-items: center;background-color: white;padding-right: 0.2em;padding-left: 0.2em;position: relative;}#sk-container-id-2 div.sk-item {position: relative;z-index: 1;}#sk-container-id-2 div.sk-parallel {display: flex;align-items: stretch;justify-content: center;background-color: white;position: relative;}#sk-container-id-2 div.sk-item::before, #sk-container-id-2 div.sk-parallel-item::before {content: \"\";position: absolute;border-left: 1px solid gray;box-sizing: border-box;top: 0;bottom: 0;left: 50%;z-index: -1;}#sk-container-id-2 div.sk-parallel-item {display: flex;flex-direction: column;z-index: 1;position: relative;background-color: white;}#sk-container-id-2 div.sk-parallel-item:first-child::after {align-self: flex-end;width: 50%;}#sk-container-id-2 div.sk-parallel-item:last-child::after {align-self: flex-start;width: 50%;}#sk-container-id-2 div.sk-parallel-item:only-child::after {width: 0;}#sk-container-id-2 div.sk-dashed-wrapped {border: 1px dashed gray;margin: 0 0.4em 0.5em 0.4em;box-sizing: border-box;padding-bottom: 0.4em;background-color: white;}#sk-container-id-2 div.sk-label label {font-family: monospace;font-weight: bold;display: inline-block;line-height: 1.2em;}#sk-container-id-2 div.sk-label-container {text-align: center;}#sk-container-id-2 div.sk-container {/* jupyter's `normalize.less` sets `[hidden] { display: none; }` but bootstrap.min.css set `[hidden] { display: none !important; }` so we also need the `!important` here to be able to override the default hidden behavior on the sphinx rendered scikit-learn.org. See: https://github.com/scikit-learn/scikit-learn/issues/21755 */display: inline-block !important;position: relative;}#sk-container-id-2 div.sk-text-repr-fallback {display: none;}</style><div id=\"sk-container-id-2\" class=\"sk-top-container\"><div class=\"sk-text-repr-fallback\"><pre>Pipeline(steps=[(&#x27;vectorizer&#x27;, CountVectorizer()), (&#x27;nb&#x27;, MultinomialNB())])</pre><b>In a Jupyter environment, please rerun this cell to show the HTML representation or trust the notebook. <br />On GitHub, the HTML representation is unable to render, please try loading this page with nbviewer.org.</b></div><div class=\"sk-container\" hidden><div class=\"sk-item sk-dashed-wrapped\"><div class=\"sk-label-container\"><div class=\"sk-label sk-toggleable\"><input class=\"sk-toggleable__control sk-hidden--visually\" id=\"sk-estimator-id-2\" type=\"checkbox\" ><label for=\"sk-estimator-id-2\" class=\"sk-toggleable__label sk-toggleable__label-arrow\">Pipeline</label><div class=\"sk-toggleable__content\"><pre>Pipeline(steps=[(&#x27;vectorizer&#x27;, CountVectorizer()), (&#x27;nb&#x27;, MultinomialNB())])</pre></div></div></div><div class=\"sk-serial\"><div class=\"sk-item\"><div class=\"sk-estimator sk-toggleable\"><input class=\"sk-toggleable__control sk-hidden--visually\" id=\"sk-estimator-id-3\" type=\"checkbox\" ><label for=\"sk-estimator-id-3\" class=\"sk-toggleable__label sk-toggleable__label-arrow\">CountVectorizer</label><div class=\"sk-toggleable__content\"><pre>CountVectorizer()</pre></div></div></div><div class=\"sk-item\"><div class=\"sk-estimator sk-toggleable\"><input class=\"sk-toggleable__control sk-hidden--visually\" id=\"sk-estimator-id-4\" type=\"checkbox\" ><label for=\"sk-estimator-id-4\" class=\"sk-toggleable__label sk-toggleable__label-arrow\">MultinomialNB</label><div class=\"sk-toggleable__content\"><pre>MultinomialNB()</pre></div></div></div></div></div></div></div>"
      ],
      "text/plain": [
       "Pipeline(steps=[('vectorizer', CountVectorizer()), ('nb', MultinomialNB())])"
      ]
     },
     "execution_count": 35,
     "metadata": {},
     "output_type": "execute_result"
    }
   ],
   "source": [
    "clf.fit(X_train, y_train)"
   ]
  },
  {
   "cell_type": "code",
   "execution_count": 36,
   "id": "e7d9b00b",
   "metadata": {
    "scrolled": true
   },
   "outputs": [
    {
     "name": "stdout",
     "output_type": "stream",
     "text": [
      "              precision    recall  f1-score   support\n",
      "\n",
      "           0       0.98      0.99      0.99       966\n",
      "           1       0.96      0.90      0.93       149\n",
      "\n",
      "    accuracy                           0.98      1115\n",
      "   macro avg       0.97      0.95      0.96      1115\n",
      "weighted avg       0.98      0.98      0.98      1115\n",
      "\n"
     ]
    }
   ],
   "source": [
    "y_pred = clf.predict(X_test)\n",
    "\n",
    "print(classification_report(y_test, y_pred))"
   ]
  },
  {
   "cell_type": "markdown",
   "id": "a55d6622-5def-43da-bdf1-d4462e9ea436",
   "metadata": {},
   "source": [
    "### Confusion Matrix"
   ]
  },
  {
   "cell_type": "code",
   "execution_count": 38,
   "id": "904bd5bd-9e11-49d1-a2a6-96f6dc975a8f",
   "metadata": {
    "scrolled": true
   },
   "outputs": [
    {
     "data": {
      "image/png": "[encoded data removed]",
      "text/plain": [
       "<Figure size 640x480 with 2 Axes>"
      ]
     },
     "metadata": {},
     "output_type": "display_data"
    }
   ],
   "source": [
    "from sklearn.metrics import confusion_matrix\n",
    "import seaborn as sns\n",
    "import matplotlib.pyplot as plt\n",
    "\n",
    "cm = confusion_matrix(y_test, y_pred)\n",
    "sns.heatmap(cm, annot=True, fmt='d', cmap='Blues')\n",
    "plt.title('Confusion Matrix')\n",
    "plt.ylabel('True Label')\n",
    "plt.xlabel('Predicted Label')\n",
    "plt.show()\n"
   ]
  },
  {
   "cell_type": "markdown",
   "id": "93df01b3-3f63-4593-8cf7-55bbdaf71f6c",
   "metadata": {},
   "source": [
    "### ROC Curve"
   ]
  },
  {
   "cell_type": "code",
   "execution_count": 40,
   "id": "fee70af9-cc99-4278-a00c-162a23f0815c",
   "metadata": {
    "scrolled": true
   },
   "outputs": [
    {
     "data": {
      "image/png": "[encoded data removed]",
      "text/plain": [
       "<Figure size 640x480 with 1 Axes>"
      ]
     },
     "metadata": {},
     "output_type": "display_data"
    }
   ],
   "source": [
    "from sklearn.metrics import roc_curve, auc\n",
    "\n",
    "# If the classifier provides probabilities, otherwise skip this step\n",
    "y_pred_prob = clf.predict_proba(X_test)[:, 1]\n",
    "\n",
    "fpr, tpr, thresholds = roc_curve(y_test, y_pred_prob)\n",
    "roc_auc = auc(fpr, tpr)\n",
    "\n",
    "plt.plot(fpr, tpr, color='darkorange', lw=2, label='ROC curve (area = %0.2f)' % roc_auc)\n",
    "plt.plot([0, 1], [0, 1], color='navy', lw=2, linestyle='--')\n",
    "plt.xlim([0.0, 1.0])\n",
    "plt.ylim([0.0, 1.05])\n",
    "plt.xlabel('False Positive Rate')\n",
    "plt.ylabel('True Positive Rate')\n",
    "plt.title('Receiver Operating Characteristic (ROC)')\n",
    "plt.legend(loc=\"lower right\")\n",
    "plt.show()\n"
   ]
  },
  {
   "cell_type": "markdown",
   "id": "9a1c7758-593d-4607-ab9d-46d16ecda06f",
   "metadata": {},
   "source": [
    "### Precision-Recall Curve"
   ]
  },
  {
   "cell_type": "code",
   "execution_count": 42,
   "id": "3779ef92-04e4-400e-9bf4-a3b09f3fe854",
   "metadata": {
    "scrolled": true
   },
   "outputs": [
    {
     "data": {
      "image/png": "[encoded data removed]",
      "text/plain": [
       "<Figure size 640x480 with 1 Axes>"
      ]
     },
     "metadata": {},
     "output_type": "display_data"
    }
   ],
   "source": [
    "from sklearn.metrics import precision_recall_curve\n",
    "\n",
    "precision, recall, _ = precision_recall_curve(y_test, y_pred_prob)\n",
    "\n",
    "plt.plot(recall, precision, marker='.', label='Precision-Recall Curve')\n",
    "plt.xlabel('Recall')\n",
    "plt.ylabel('Precision')\n",
    "plt.title('Precision-Recall Curve')\n",
    "plt.legend()\n",
    "plt.show()\n"
   ]
  },
  {
   "cell_type": "markdown",
   "id": "e0c1105d-b516-4be7-a440-dc99464da965",
   "metadata": {},
   "source": [
    "### Classification Report as a Heatmap"
   ]
  },
  {
   "cell_type": "code",
   "execution_count": 44,
   "id": "2c5e4f00-420b-431f-8353-5e1e03e46875",
   "metadata": {
    "scrolled": true
   },
   "outputs": [
    {
     "data": {
      "image/png": "[encoded data removed]",
      "text/plain": [
       "<Figure size 640x480 with 2 Axes>"
      ]
     },
     "metadata": {},
     "output_type": "display_data"
    }
   ],
   "source": [
    "from sklearn.metrics import classification_report\n",
    "import pandas as pd\n",
    "\n",
    "report = classification_report(y_test, y_pred, output_dict=True)\n",
    "df = pd.DataFrame(report).transpose()\n",
    "\n",
    "sns.heatmap(df.iloc[:-1, :-1], annot=True, cmap='coolwarm')\n",
    "plt.title('Classification Report Heatmap')\n",
    "plt.show()\n"
   ]
  },
  {
   "cell_type": "markdown",
   "id": "c14846de-dc1c-4a9e-b20c-0e2bfd5900fc",
   "metadata": {},
   "source": [
    "### Learning Curve"
   ]
  },
  {
   "cell_type": "code",
   "execution_count": 46,
   "id": "f5c44213-9185-40a1-a61a-88b7d7595a89",
   "metadata": {
    "scrolled": true
   },
   "outputs": [
    {
     "data": {
      "image/png": "[encoded data removed]",
      "text/plain": [
       "<Figure size 640x480 with 1 Axes>"
      ]
     },
     "metadata": {},
     "output_type": "display_data"
    }
   ],
   "source": [
    "from sklearn.model_selection import learning_curve\n",
    "\n",
    "train_sizes, train_scores, test_scores = learning_curve(clf, X_test, y_test, cv=5)\n",
    "plt.plot(train_sizes, np.mean(train_scores, axis=1), label='Training score')\n",
    "plt.plot(train_sizes, np.mean(test_scores, axis=1), label='Cross-validation score')\n",
    "\n",
    "plt.xlabel('Training Set Size')\n",
    "plt.ylabel('Score')\n",
    "plt.title('Learning Curve')\n",
    "plt.legend()\n",
    "plt.show()\n"
   ]
  }
 ],
 "metadata": {
  "kernelspec": {
   "display_name": "Python 3 (ipykernel)",
   "language": "python",
   "name": "python3"
  },
  "language_info": {
   "codemirror_mode": {
    "name": "ipython",
    "version": 3
   },
   "file_extension": ".py",
   "mimetype": "text/x-python",
   "name": "python",
   "nbconvert_exporter": "python",
   "pygments_lexer": "ipython3",
   "version": "3.11.5"
  }
 },
 "nbformat": 4,
 "nbformat_minor": 5
}
